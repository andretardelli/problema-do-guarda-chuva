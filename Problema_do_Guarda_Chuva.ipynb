{
  "nbformat": 4,
  "nbformat_minor": 0,
  "metadata": {
    "colab": {
      "name": "Problema do Guarda-Chuva.ipynb",
      "provenance": [],
      "collapsed_sections": [],
      "toc_visible": true
    },
    "kernelspec": {
      "name": "python3",
      "display_name": "Python 3"
    }
  },
  "cells": [
    {
      "cell_type": "code",
      "metadata": {
        "id": "urcYcAQZpFJW",
        "colab_type": "code",
        "colab": {}
      },
      "source": [
        "import numpy as np\n",
        "import scipy as sp\n",
        "import sympy as sym"
      ],
      "execution_count": 0,
      "outputs": []
    },
    {
      "cell_type": "code",
      "metadata": {
        "id": "LI5Th41Tiew7",
        "colab_type": "code",
        "cellView": "form",
        "colab": {}
      },
      "source": [
        "#@title Print de equações do SymPy\n",
        "from sympy import init_printing\n",
        "from IPython.display import display, HTML, Math \n",
        "\n",
        "init_printing(use_latex='mathjax')\n",
        "\n",
        "from google.colab.output._publish import javascript\n",
        "url = \"https://cdnjs.cloudflare.com/ajax/libs/mathjax/2.7.3/latest.js?config=default\"\n",
        "\n"
      ],
      "execution_count": 0,
      "outputs": []
    },
    {
      "cell_type": "markdown",
      "metadata": {
        "id": "A3kcqk64rJhX",
        "colab_type": "text"
      },
      "source": [
        "Construindo sistema linear:\n",
        "\n",
        "Vetor linha\n",
        "$$ \\boldsymbol{\\pi} P = \\boldsymbol{\\pi} $$  \n",
        "$$ \\text{sujeito a } \\sum_{i} \\pi_i = 1 $$\n",
        "ou\n",
        "\n",
        "Vetor coluna (forma como está feita aqui)\n",
        "$$ P^T \\boldsymbol{\\pi} = \\boldsymbol{\\pi}$$\n",
        "$$ \\text{sujeito a } \\sum_{i} \\pi_i = 1 $$\n",
        "\n",
        "Para escrevermos um sistema sem a incógnita nos dois lados da igualdade e impondo a restrição de probabilidades, podemos perceber que:\n",
        "\n",
        "$$ I P^T \\boldsymbol{\\pi} = I \\boldsymbol{\\pi} \\to (P^T - I)\\boldsymbol{\\pi} = 0$$\n",
        "$$ \\text{sujeito a } \\sum_{i} \\pi_i = 1 $$\n",
        "Adicionamos a restrição de probabilidades adicionando uma última linha do sistema com coeficientes 1 na matriz P e coeficiente um no vetor $\\mathbf{b}$ (lado direito da igualdade)"
      ]
    },
    {
      "cell_type": "code",
      "metadata": {
        "id": "yFGTFxcvpJYK",
        "colab_type": "code",
        "colab": {}
      },
      "source": [
        "# reservando símbolos\n",
        "p, q = sym.symbols('p q')\n",
        "x1, x2, x3, x4 = sym.symbols('x1 x2 x3 x4')"
      ],
      "execution_count": 0,
      "outputs": []
    },
    {
      "cell_type": "code",
      "metadata": {
        "id": "VTfd_pBIrxeF",
        "colab_type": "code",
        "colab": {}
      },
      "source": [
        "# construindo matriz P\n",
        "P = sym.Matrix(\n",
        "    [[0, 1, 0, 0],\n",
        "    [1-q, 0, q, 0],\n",
        "    [0, p, 0, 1-p],\n",
        "    [0, 0, 1, 0]]\n",
        "    )\n"
      ],
      "execution_count": 0,
      "outputs": []
    },
    {
      "cell_type": "code",
      "metadata": {
        "id": "lXJJyd6JTO4i",
        "colab_type": "code",
        "colab": {}
      },
      "source": [
        "A_hat = P.transpose() - sym.eye(4)"
      ],
      "execution_count": 0,
      "outputs": []
    },
    {
      "cell_type": "code",
      "metadata": {
        "id": "Ls2NnlGQTwb8",
        "colab_type": "code",
        "outputId": "e62c4a84-3364-4796-cd08-7809fea8b4c5",
        "colab": {
          "base_uri": "https://localhost:8080/",
          "height": 34
        }
      },
      "source": [
        "A_hat"
      ],
      "execution_count": 6,
      "outputs": [
        {
          "output_type": "execute_result",
          "data": {
            "text/latex": "$$\\left[\\begin{matrix}-1 & - q + 1 & 0 & 0\\\\1 & -1 & p & 0\\\\0 & q & -1 & 1\\\\0 & 0 & - p + 1 & -1\\end{matrix}\\right]$$",
            "text/plain": [
              "⎡-1  -q + 1    0     0 ⎤\n",
              "⎢                      ⎥\n",
              "⎢1     -1      p     0 ⎥\n",
              "⎢                      ⎥\n",
              "⎢0     q       -1    1 ⎥\n",
              "⎢                      ⎥\n",
              "⎣0     0     -p + 1  -1⎦"
            ]
          },
          "metadata": {
            "tags": []
          },
          "execution_count": 6
        }
      ]
    },
    {
      "cell_type": "code",
      "metadata": {
        "id": "yQ9XL6GKUBoq",
        "colab_type": "code",
        "colab": {}
      },
      "source": [
        "# adicionando restricao de probabilidades\n",
        "A_hat = A_hat.row_insert(4, sym.Matrix([[1, 1, 1, 1]]))"
      ],
      "execution_count": 0,
      "outputs": []
    },
    {
      "cell_type": "code",
      "metadata": {
        "id": "lIbdRkTussM8",
        "colab_type": "code",
        "colab": {}
      },
      "source": [
        "# construindo o vetor b\n",
        "b = sym.Matrix(\n",
        "[0,\n",
        " 0,\n",
        " 0,\n",
        " 0,\n",
        " 1\n",
        "])"
      ],
      "execution_count": 0,
      "outputs": []
    },
    {
      "cell_type": "code",
      "metadata": {
        "id": "WIk_GRnGP49S",
        "colab_type": "code",
        "colab": {}
      },
      "source": [
        "system = A_hat, b"
      ],
      "execution_count": 0,
      "outputs": []
    },
    {
      "cell_type": "code",
      "metadata": {
        "id": "IQRYuggDVL_9",
        "colab_type": "code",
        "outputId": "4ba78b8c-6759-4930-e3c5-a03b45be2cae",
        "colab": {
          "base_uri": "https://localhost:8080/",
          "height": 204
        }
      },
      "source": [
        "print(system)"
      ],
      "execution_count": 10,
      "outputs": [
        {
          "output_type": "stream",
          "text": [
            "(Matrix([\n",
            "[-1, -q + 1,      0,  0],\n",
            "[ 1,     -1,      p,  0],\n",
            "[ 0,      q,     -1,  1],\n",
            "[ 0,      0, -p + 1, -1],\n",
            "[ 1,      1,      1,  1]]), Matrix([\n",
            "[0],\n",
            "[0],\n",
            "[0],\n",
            "[0],\n",
            "[1]]))\n"
          ],
          "name": "stdout"
        }
      ]
    },
    {
      "cell_type": "code",
      "metadata": {
        "id": "R_-xBRFOxeKJ",
        "colab_type": "code",
        "outputId": "6c407835-16d1-43ad-98de-ab9fdfe3202a",
        "colab": {
          "base_uri": "https://localhost:8080/",
          "height": 51
        }
      },
      "source": [
        "# Copiar e colar código de saída tex, colar em célula Text\n",
        "res,  = sym.linsolve(system, (x1, x2, x3, x4))\n",
        "res"
      ],
      "execution_count": 11,
      "outputs": [
        {
          "output_type": "execute_result",
          "data": {
            "text/latex": "$$\\left ( \\frac{p \\left(q - 1\\right)}{p \\left(q - 2\\right) + q \\left(p - 1\\right) - q}, \\quad - \\frac{p}{p \\left(q - 2\\right) + q \\left(p - 1\\right) - q}, \\quad - \\frac{q}{p \\left(q - 2\\right) + q \\left(p - 1\\right) - q}, \\quad \\frac{q \\left(p - 1\\right)}{p \\left(q - 2\\right) + q \\left(p - 1\\right) - q}\\right )$$",
            "text/plain": [
              "⎛        p⋅(q - 1)                     -p                         -q          \n",
              "⎜─────────────────────────, ─────────────────────────, ───────────────────────\n",
              "⎝p⋅(q - 2) + q⋅(p - 1) - q  p⋅(q - 2) + q⋅(p - 1) - q  p⋅(q - 2) + q⋅(p - 1) -\n",
              "\n",
              "            q⋅(p - 1)        ⎞\n",
              "──, ─────────────────────────⎟\n",
              " q  p⋅(q - 2) + q⋅(p - 1) - q⎠"
            ]
          },
          "metadata": {
            "tags": []
          },
          "execution_count": 11
        }
      ]
    },
    {
      "cell_type": "code",
      "metadata": {
        "id": "8Y_jVSVABn24",
        "colab_type": "code",
        "colab": {}
      },
      "source": [
        ""
      ],
      "execution_count": 0,
      "outputs": []
    },
    {
      "cell_type": "markdown",
      "metadata": {
        "id": "w-PMYWgPWUBW",
        "colab_type": "text"
      },
      "source": [
        "$$\\left ( \\frac{p \\left(q - 1\\right)}{p \\left(q - 2\\right) + q \\left(p - 1\\right) - q}, \\quad - \\frac{p}{p \\left(q - 2\\right) + q \\left(p - 1\\right) - q}, \\quad - \\frac{q}{p \\left(q - 2\\right) + q \\left(p - 1\\right) - q}, \\quad \\frac{q \\left(p - 1\\right)}{p \\left(q - 2\\right) + q \\left(p - 1\\right) - q}\\right )$$"
      ]
    },
    {
      "cell_type": "markdown",
      "metadata": {
        "id": "9n_7Hjkov3m_",
        "colab_type": "text"
      },
      "source": [
        "## Segunda Cadeia"
      ]
    },
    {
      "cell_type": "code",
      "metadata": {
        "id": "vnwdf_ATvphd",
        "colab_type": "code",
        "colab": {}
      },
      "source": [
        "# reservando símbolos\n",
        "r, s = sym.symbols('r s')\n",
        "x1, x2 = sym.symbols('x1 x2')"
      ],
      "execution_count": 0,
      "outputs": []
    },
    {
      "cell_type": "code",
      "metadata": {
        "id": "UdnINrx4v7V5",
        "colab_type": "code",
        "colab": {}
      },
      "source": [
        "# construindo matriz P\n",
        "P2 = sym.Matrix(\n",
        "    [[1-r, r],\n",
        "    [s, 1-s]]\n",
        "    )\n"
      ],
      "execution_count": 0,
      "outputs": []
    },
    {
      "cell_type": "code",
      "metadata": {
        "id": "HwPcLfrrwGy3",
        "colab_type": "code",
        "colab": {}
      },
      "source": [
        "P2_hat = P2.transpose() - sym.eye(2)"
      ],
      "execution_count": 0,
      "outputs": []
    },
    {
      "cell_type": "code",
      "metadata": {
        "id": "ZG2Mgh9PwTP4",
        "colab_type": "code",
        "colab": {}
      },
      "source": [
        "# adicionando restricao de probabilidades\n",
        "P2_hat = P2_hat.row_insert(2, sym.Matrix([[1, 1]]))"
      ],
      "execution_count": 0,
      "outputs": []
    },
    {
      "cell_type": "code",
      "metadata": {
        "id": "X6xh2WrowZoS",
        "colab_type": "code",
        "colab": {}
      },
      "source": [
        "# construindo o vetor b\n",
        "b2 = sym.Matrix(\n",
        "[0,\n",
        " 0,\n",
        " 1\n",
        "])"
      ],
      "execution_count": 0,
      "outputs": []
    },
    {
      "cell_type": "code",
      "metadata": {
        "id": "Ya38tEBUwdvW",
        "colab_type": "code",
        "colab": {}
      },
      "source": [
        "system = P2_hat, b2"
      ],
      "execution_count": 0,
      "outputs": []
    },
    {
      "cell_type": "code",
      "metadata": {
        "id": "GhzuI6wKwjKP",
        "colab_type": "code",
        "outputId": "e13868c3-7b02-47e6-f2d7-c930ba29ae26",
        "colab": {
          "base_uri": "https://localhost:8080/",
          "height": 136
        }
      },
      "source": [
        "print(system)"
      ],
      "execution_count": 18,
      "outputs": [
        {
          "output_type": "stream",
          "text": [
            "(Matrix([\n",
            "[-r,  s],\n",
            "[ r, -s],\n",
            "[ 1,  1]]), Matrix([\n",
            "[0],\n",
            "[0],\n",
            "[1]]))\n"
          ],
          "name": "stdout"
        }
      ]
    },
    {
      "cell_type": "code",
      "metadata": {
        "colab_type": "code",
        "id": "ze2GOI3Bf6uB",
        "outputId": "5d3456ff-ad4e-42ef-d7f8-a44faa5aa6ee",
        "colab": {
          "base_uri": "https://localhost:8080/",
          "height": 34
        }
      },
      "source": [
        "# Copiar e colar código de saída tex, colar em célula Text\n",
        "res,  = sym.linsolve(system, (x1, x2))\n",
        "res"
      ],
      "execution_count": 19,
      "outputs": [
        {
          "output_type": "execute_result",
          "data": {
            "text/latex": "$$\\left ( \\frac{s}{r + s}, \\quad \\frac{r}{r + s}\\right )$$",
            "text/plain": [
              "⎛  s      r  ⎞\n",
              "⎜─────, ─────⎟\n",
              "⎝r + s  r + s⎠"
            ]
          },
          "metadata": {
            "tags": []
          },
          "execution_count": 19
        }
      ]
    }
  ]
}